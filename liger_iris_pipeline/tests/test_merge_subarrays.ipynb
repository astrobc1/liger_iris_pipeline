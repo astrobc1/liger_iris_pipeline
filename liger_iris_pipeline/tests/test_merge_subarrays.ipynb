{
 "cells": [
  {
   "cell_type": "markdown",
   "metadata": {},
   "source": [
    "# Merge full frame with concurrent subarrays\n",
    "\n",
    "This is a level 3 tool, it assumes the inputs have been already reduced by a level 2 tool (the `image2` pipeline in this case).\n",
    "\n",
    "It takes a pointer to the full frame and the subarrays and combines them back into a single reduced file."
   ]
  },
  {
   "cell_type": "code",
   "execution_count": null,
   "metadata": {},
   "outputs": [],
   "source": [
    "import numpy as np\n",
    "import iris_pipeline"
   ]
  },
  {
   "cell_type": "code",
   "execution_count": null,
   "metadata": {},
   "outputs": [],
   "source": [
    "iris_pipeline.monkeypatch_jwst_datamodels()"
   ]
  },
  {
   "cell_type": "code",
   "execution_count": null,
   "metadata": {},
   "outputs": [],
   "source": [
    "%pwd"
   ]
  },
  {
   "cell_type": "markdown",
   "metadata": {},
   "source": [
    "## Input files\n",
    "\n",
    "Input files are defined by an association JSON file.\n",
    "We specify the full frame first, then the subarrays."
   ]
  },
  {
   "cell_type": "code",
   "execution_count": null,
   "metadata": {},
   "outputs": [],
   "source": [
    "%%file asn_merge_subarrays.json\n",
    "\n",
    "{\n",
    "    \"asn_rule\": \"Asn_Image\",\n",
    "    \"asn_pool\": \"pool\",\n",
    "    \"asn_type\": \"image3\",\n",
    "    \"products\": [\n",
    "        {\n",
    "            \"name\": \"test_merge_subarrays_asn\",\n",
    "            \"members\": [\n",
    "                {\n",
    "                    \"expname\": \"data/reduced_science_frame_sci_with_subarrays.fits\",\n",
    "                    \"exptype\": \"science\"\n",
    "                },\n",
    "                {\n",
    "                    \"expname\": \"data/reduced_science_frame_sci_subarray_1.fits\",\n",
    "                    \"exptype\": \"science\"\n",
    "                },\n",
    "                {\n",
    "                    \"expname\": \"data/reduced_science_frame_sci_subarray_2.fits\",\n",
    "                    \"exptype\": \"science\"\n",
    "                }\n",
    "            ]\n",
    "        }\n",
    "    ]   \n",
    "}"
   ]
  },
  {
   "cell_type": "code",
   "execution_count": null,
   "metadata": {},
   "outputs": [],
   "source": [
    "im = iris_pipeline.MergeSubarraysStep().call(\"asn_merge_subarrays.json\")"
   ]
  },
  {
   "cell_type": "code",
   "execution_count": null,
   "metadata": {},
   "outputs": [],
   "source": [
    "original = iris_pipeline.datamodels.IRISImageModel(\"data/reduced_science_frame_sci_with_subarrays.fits\")"
   ]
  },
  {
   "cell_type": "code",
   "execution_count": null,
   "metadata": {},
   "outputs": [],
   "source": [
    "im.data.max()"
   ]
  },
  {
   "cell_type": "code",
   "execution_count": null,
   "metadata": {},
   "outputs": [],
   "source": [
    "assert np.all(np.logical_not(np.isnan(im.data)))"
   ]
  },
  {
   "cell_type": "code",
   "execution_count": null,
   "metadata": {},
   "outputs": [],
   "source": [
    "try:\n",
    "    \n",
    "    %matplotlib inline\n",
    "\n",
    "    import matplotlib.pyplot as plt\n",
    "\n",
    "    vmax = 100000\n",
    "    fig, axes = plt.subplots(1,2, figsize=(10,5))\n",
    "    axes[0].imshow(original.data, vmin=0, vmax=vmax)\n",
    "    axes[0].set_title(\"Original\")\n",
    "    axes[1].imshow(im.data, vmin=0, vmax=vmax)\n",
    "    axes[1].set_title(\"Merged\");\n",
    "\n",
    "except ImportError:\n",
    "    pass"
   ]
  },
  {
   "cell_type": "code",
   "execution_count": null,
   "metadata": {},
   "outputs": [],
   "source": []
  },
  {
   "cell_type": "code",
   "execution_count": null,
   "metadata": {},
   "outputs": [],
   "source": []
  }
 ],
 "metadata": {
  "kernelspec": {
   "display_name": "jwst",
   "language": "python",
   "name": "jwst"
  },
  "language_info": {
   "codemirror_mode": {
    "name": "ipython",
    "version": 3
   },
   "file_extension": ".py",
   "mimetype": "text/x-python",
   "name": "python",
   "nbconvert_exporter": "python",
   "pygments_lexer": "ipython3",
   "version": "3.6.9"
  }
 },
 "nbformat": 4,
 "nbformat_minor": 4
}
