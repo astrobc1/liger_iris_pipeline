{
 "cells": [
  {
   "cell_type": "code",
   "execution_count": null,
   "metadata": {},
   "outputs": [],
   "source": [
    "import iris_pipeline\n",
    "\n",
    "iris_pipeline.monkeypatch_jwst_datamodels()  "
   ]
  },
  {
   "cell_type": "code",
   "execution_count": null,
   "metadata": {},
   "outputs": [],
   "source": [
    "import astropy.units as u"
   ]
  },
  {
   "cell_type": "code",
   "execution_count": null,
   "metadata": {},
   "outputs": [],
   "source": [
    "import numpy as np\n",
    "from jwst import datamodels"
   ]
  },
  {
   "cell_type": "code",
   "execution_count": null,
   "metadata": {},
   "outputs": [],
   "source": [
    "from test_utils import get_data_from_url"
   ]
  },
  {
   "cell_type": "code",
   "execution_count": null,
   "metadata": {},
   "outputs": [],
   "source": [
    "raw_science_filename = get_data_from_url(\"17903858\")"
   ]
  },
  {
   "cell_type": "code",
   "execution_count": null,
   "metadata": {},
   "outputs": [],
   "source": [
    "input_model = datamodels.open(raw_science_filename)"
   ]
  },
  {
   "cell_type": "markdown",
   "metadata": {},
   "source": [
    "The input model doesn't have the WCS ASDF extension."
   ]
  },
  {
   "cell_type": "code",
   "execution_count": null,
   "metadata": {},
   "outputs": [],
   "source": [
    "assert not hasattr(input_model.meta, \"wcs\")"
   ]
  },
  {
   "cell_type": "markdown",
   "metadata": {},
   "source": [
    "Also it doesn't have FITS WCS keywords,\n",
    "we add them here."
   ]
  },
  {
   "cell_type": "code",
   "execution_count": null,
   "metadata": {},
   "outputs": [],
   "source": [
    "input_model.meta.wcsinfo.ctype1 = \"RA---TAN\"\n",
    "input_model.meta.wcsinfo.ctype2 = \"DEC--TAN\"\n",
    "input_model.meta.wcsinfo.cdelt1 = 1e-6\n",
    "input_model.meta.wcsinfo.cdelt2 = 1e-6\n",
    "input_model.meta.wcsinfo.crval1 = 265\n",
    "input_model.meta.wcsinfo.crval2 = -29\n",
    "input_model.meta.wcsinfo.crpix1 = 2048.12\n",
    "input_model.meta.wcsinfo.crpix2 = 2048.12"
   ]
  },
  {
   "cell_type": "markdown",
   "metadata": {},
   "source": [
    "Assign WCS for now just parses the `wcsinfo` metadata and creates a `gwcs.WCS` instance with the proper coordinate transformations using `astropy.modeling`."
   ]
  },
  {
   "cell_type": "code",
   "execution_count": null,
   "metadata": {},
   "outputs": [],
   "source": [
    "output_model = iris_pipeline.assign_wcs.AssignWcsStep.call(input_model)                                                      "
   ]
  },
  {
   "cell_type": "code",
   "execution_count": null,
   "metadata": {},
   "outputs": [],
   "source": [
    "from astropy.tests.helper import assert_quantity_allclose"
   ]
  },
  {
   "cell_type": "markdown",
   "metadata": {},
   "source": [
    "The WCS object can be called with pixel numbers and returns back the coordinates in the sky,\n",
    "here we double-check that the reference pixel is reprojected back to the right input sky location."
   ]
  },
  {
   "cell_type": "code",
   "execution_count": null,
   "metadata": {},
   "outputs": [],
   "source": [
    "assert_quantity_allclose(\n",
    "    (input_model.meta.wcsinfo.crval1*u.deg, input_model.meta.wcsinfo.crval2*u.deg),\n",
    "    output_model.meta.wcs(input_model.meta.wcsinfo.crpix1*u.pix,input_model.meta.wcsinfo.crpix2*u.pix)\n",
    ")                                                                "
   ]
  },
  {
   "cell_type": "markdown",
   "metadata": {},
   "source": [
    "## Compare with the standard `astropy` WCS\n",
    "\n",
    "We can write the file with the WCS keywords in the header to a FITS file and then parse it with `astropy.wcs` and compare the transformation at the 4 corners of the array between the 2 WCS objects."
   ]
  },
  {
   "cell_type": "code",
   "execution_count": null,
   "metadata": {},
   "outputs": [],
   "source": [
    "from astropy import wcs"
   ]
  },
  {
   "cell_type": "code",
   "execution_count": null,
   "metadata": {},
   "outputs": [],
   "source": [
    "input_model.to_fits(\"temp_wcs.fits\", overwrite=True)"
   ]
  },
  {
   "cell_type": "code",
   "execution_count": null,
   "metadata": {},
   "outputs": [],
   "source": [
    "astropy_fits_wcs = wcs.WCS(\"temp_wcs.fits\")"
   ]
  },
  {
   "cell_type": "code",
   "execution_count": null,
   "metadata": {},
   "outputs": [],
   "source": [
    "astropy_fits_wcs.pixel_to_world_values(0,0)"
   ]
  },
  {
   "cell_type": "code",
   "execution_count": null,
   "metadata": {},
   "outputs": [],
   "source": [
    "output_model.meta.wcs(0*u.pix, 0*u.pix)"
   ]
  },
  {
   "cell_type": "code",
   "execution_count": null,
   "metadata": {},
   "outputs": [],
   "source": [
    "pixels = [0, 4096] * u.pix"
   ]
  },
  {
   "cell_type": "code",
   "execution_count": null,
   "metadata": {},
   "outputs": [],
   "source": [
    "for pix_x in pixels:\n",
    "    for pix_y in pixels:\n",
    "        print(pix_x, pix_y)\n",
    "        assert_quantity_allclose(\n",
    "            astropy_fits_wcs.pixel_to_world_values(pix_x,pix_y) * u.deg,\n",
    "            output_model.meta.wcs(pix_x, pix_y)\n",
    "        )"
   ]
  },
  {
   "cell_type": "code",
   "execution_count": null,
   "metadata": {},
   "outputs": [],
   "source": []
  }
 ],
 "metadata": {
  "kernelspec": {
   "display_name": "IRIS",
   "language": "python",
   "name": "iris"
  },
  "language_info": {
   "codemirror_mode": {
    "name": "ipython",
    "version": 3
   },
   "file_extension": ".py",
   "mimetype": "text/x-python",
   "name": "python",
   "nbconvert_exporter": "python",
   "pygments_lexer": "ipython3",
   "version": "3.7.0"
  }
 },
 "nbformat": 4,
 "nbformat_minor": 4
}
